{
 "cells": [
  {
   "cell_type": "code",
   "execution_count": 17,
   "metadata": {},
   "outputs": [],
   "source": [
    "#-- Import Statements\n",
    "import scipy.io\n",
    "import scipy.linalg\n",
    "import numpy as np"
   ]
  },
  {
   "cell_type": "markdown",
   "metadata": {},
   "source": [
    "1. This problem involves an $n$ by $n$ square matrix, $A$, which is in A11F18108.mat in the Assignments folder on Canvas.\n",
    "    \n",
    "    (a) (5 points) Let $r_j$ be the $j$th row of $A$ and $x_j$ be the solution to \n",
    "    \n",
    "    $Ax_j = r^T_j$\n",
    "    \n",
    "    For which j is\n",
    "    \n",
    "    $||x_j||_1$\n",
    "    \n",
    "    smallest?"
   ]
  },
  {
   "cell_type": "code",
   "execution_count": 26,
   "metadata": {},
   "outputs": [],
   "source": [
    "#-- Solution\n",
    "A_matobj = scipy.io.loadmat(\"A11F18108.mat\")\n",
    "A = A_matobj['A']\n",
    "norms = list()\n",
    "\n",
    "for j in range(0, np.size(A,0)):\n",
    "    norms.append(np.linalg.norm(np.linalg.solve(A, A[j,:]), 1))"
   ]
  },
  {
   "cell_type": "code",
   "execution_count": 25,
   "metadata": {},
   "outputs": [
    {
     "name": "stdout",
     "output_type": "stream",
     "text": [
      "j = 308 is the smallest norm.\n"
     ]
    }
   ],
   "source": [
    "print('j = %s is the smallest norm.' % (norms.index(min(norms))))"
   ]
  },
  {
   "cell_type": "markdown",
   "metadata": {},
   "source": [
    "    (b) (5 points) For which j is\n",
    "        \n",
    "        $||x_j||_1$\n",
    "        \n",
    "        largest?"
   ]
  },
  {
   "cell_type": "code",
   "execution_count": 27,
   "metadata": {},
   "outputs": [
    {
     "name": "stdout",
     "output_type": "stream",
     "text": [
      "j = 385 is the largest norm.\n"
     ]
    }
   ],
   "source": [
    "print('j = %s is the largest norm.' % (norms.index(max(norms))))"
   ]
  },
  {
   "cell_type": "markdown",
   "metadata": {},
   "source": [
    "    (c) (5 points) What is the average value of\n",
    "        \n",
    "        $||x_j||_1$\n",
    "        \n",
    "        over all j?"
   ]
  },
  {
   "cell_type": "code",
   "execution_count": 28,
   "metadata": {},
   "outputs": [
    {
     "name": "stdout",
     "output_type": "stream",
     "text": [
      "Average norm over all j is 486.19075202395\n"
     ]
    }
   ],
   "source": [
    "print('Average norm over all j is %s' % (np.average(norms)))"
   ]
  },
  {
   "cell_type": "markdown",
   "metadata": {},
   "source": [
    "2. This problem involves the matrix, A, which is in A11F18108.mat. (The same as in the above problem.)\n",
    "    \n",
    "    (a) (5 points) Let $y$ be a vector orthogonal to $A(:; 1 : n - 1)$ with $||y||_2 = 1$ and $y_1 \\geq 0$. What are $y_{13}$, $y_{42}$ and $y_{137}$?"
   ]
  },
  {
   "cell_type": "code",
   "execution_count": null,
   "metadata": {},
   "outputs": [],
   "source": []
  }
 ],
 "metadata": {
  "kernelspec": {
   "display_name": "Python 3",
   "language": "python",
   "name": "python3"
  },
  "language_info": {
   "codemirror_mode": {
    "name": "ipython",
    "version": 3
   },
   "file_extension": ".py",
   "mimetype": "text/x-python",
   "name": "python",
   "nbconvert_exporter": "python",
   "pygments_lexer": "ipython3",
   "version": "3.5.2"
  }
 },
 "nbformat": 4,
 "nbformat_minor": 2
}
