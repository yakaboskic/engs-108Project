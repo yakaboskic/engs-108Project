{
 "cells": [
  {
   "cell_type": "markdown",
   "metadata": {},
   "source": [
    "# Deep Learning with Cyrillic Data \n",
    "Chase Yakaboski, 10/23/2018\n",
    "\n",
    "## 1. Data Preparation\n",
    "    - Image loading function\n",
    "    - Load in of images \n",
    "    - Plot histogram of Labels\n",
    "    \n",
    "## 2. Deep Fully Connected Neural Network\n",
    "    - Preprocess Data\n",
    "    - Split Data into Training and Testing\n",
    "    - Define Model\n",
    "    - Compile Model\n",
    "    - Run Model\n",
    "    - Analysis\n",
    "\n",
    "## 3. Deep Convolutional Neural Network\n",
    "    - Preprocess Data\n",
    "    - Split Data into Training and Testing\n",
    "    - Define Model\n",
    "    - Compile Model\n",
    "    - Run Model\n",
    "    - Analysis"
   ]
  },
  {
   "cell_type": "code",
   "execution_count": 1,
   "metadata": {},
   "outputs": [
    {
     "name": "stdout",
     "output_type": "stream",
     "text": [
      "1.11.0\n"
     ]
    }
   ],
   "source": [
    "import numpy as np\n",
    "import tensorflow as tf\n",
    "from tensorflow import keras\n",
    "import matplotlib.pyplot as plt\n",
    "import os\n",
    "import cv2\n",
    "from sklearn.model_selection import train_test_split\n",
    "\n",
    "print(tf.__version__)"
   ]
  },
  {
   "cell_type": "markdown",
   "metadata": {},
   "source": [
    "## 1. Data Preparation"
   ]
  },
  {
   "cell_type": "code",
   "execution_count": 16,
   "metadata": {},
   "outputs": [],
   "source": [
    "#-- Function to Load in Data\n",
    "#-- This Function expects images to be in seperated folders in which each folder is a different character. \n",
    "\n",
    "def load_images(path_to_images='/Users/Chase/Documents/Dartmouth/courses/engs-108/homework/Cyrillic', image_size=40):\n",
    "    #-- First we change directory to the path to images.\n",
    "    os.chdir(path_to_images)\n",
    "    letter_class = [name for name in os.listdir() if os.path.isdir(name)]\n",
    "    num_classes = len(letter_class)\n",
    "\n",
    "    images = []\n",
    "    images_2d = []\n",
    "    labels = []\n",
    "    for i in range(0, num_classes):\n",
    "        for j, file in enumerate(os.listdir(os.path.join(os.getcwd(), letter_class[i]))):\n",
    "            try:\n",
    "                path = os.path.join(os.getcwd(), letter_class[i], file)\n",
    "                im = cv2.imread(path, cv2.IMREAD_UNCHANGED)\n",
    "                res = cv2.resize(im, dsize=(image_size, image_size))\n",
    "                r,g,b,a = cv2.split(res)\n",
    "                im = np.array(a)\n",
    "                #- Add a dummy dimension\n",
    "                im = np.expand_dims(im, axis=2)\n",
    "                images_2d.append(im)\n",
    "                im_alpha = np.squeeze(im.reshape(-1, image_size**2),axis=0)\n",
    "                #- Normalize Pixel Values\n",
    "                im_alpha2 = im_alpha / 255.0 \n",
    "                images.append(im_alpha2)\n",
    "                labels.append(i)\n",
    "            except:\n",
    "                print('Bad Files:')\n",
    "                print(path)\n",
    "                continue\n",
    "    images = np.array(images)\n",
    "    labels = np.array(labels)\n",
    "    images_2d = np.array(images_2d)\n",
    "    labels_2d = keras.utils.to_categorical(labels, num_classes = num_classes)\n",
    "    \n",
    "    return images, images_2d, labels, labels_2d"
   ]
  },
  {
   "cell_type": "code",
   "execution_count": 17,
   "metadata": {},
   "outputs": [
    {
     "name": "stdout",
     "output_type": "stream",
     "text": [
      "Bad Files:\n",
      "/Users/Chase/Documents/Dartmouth/courses/engs-108/homework/Cyrillic/З/.DS_Store\n"
     ]
    }
   ],
   "source": [
    "images, images_2d, labels, labels_2d = load_images(image_size=28)"
   ]
  },
  {
   "cell_type": "markdown",
   "metadata": {},
   "source": [
    "### Now lets plot the labels to make sure each Cyrillic letter has about the same number of samples. "
   ]
  },
  {
   "cell_type": "code",
   "execution_count": 18,
   "metadata": {},
   "outputs": [
    {
     "data": {
      "text/plain": [
       "(array([444., 463., 462., 551., 459., 474., 458., 447., 427., 415., 465.,\n",
       "        431., 456., 469., 486., 344., 466., 247., 576., 493., 487., 464.,\n",
       "        461., 433., 446., 470., 431., 508., 438., 459., 424., 448., 465.,\n",
       "        513.]),\n",
       " array([ 0.        ,  0.97058824,  1.94117647,  2.91176471,  3.88235294,\n",
       "         4.85294118,  5.82352941,  6.79411765,  7.76470588,  8.73529412,\n",
       "         9.70588235, 10.67647059, 11.64705882, 12.61764706, 13.58823529,\n",
       "        14.55882353, 15.52941176, 16.5       , 17.47058824, 18.44117647,\n",
       "        19.41176471, 20.38235294, 21.35294118, 22.32352941, 23.29411765,\n",
       "        24.26470588, 25.23529412, 26.20588235, 27.17647059, 28.14705882,\n",
       "        29.11764706, 30.08823529, 31.05882353, 32.02941176, 33.        ]),\n",
       " <a list of 34 Patch objects>)"
      ]
     },
     "execution_count": 18,
     "metadata": {},
     "output_type": "execute_result"
    },
    {
     "data": {
      "image/png": "[encoded data removed]",
      "text/plain": [
       "<matplotlib.figure.Figure at 0x12b2b2f28>"
      ]
     },
     "metadata": {
      "needs_background": "light"
     },
     "output_type": "display_data"
    }
   ],
   "source": [
    "plt.hist(labels, bins=34)"
   ]
  },
  {
   "cell_type": "markdown",
   "metadata": {},
   "source": [
    "## 3. Deep Convolutional Neural Network"
   ]
  },
  {
   "cell_type": "code",
   "execution_count": 25,
   "metadata": {},
   "outputs": [],
   "source": [
    "#-- Preprocess\n",
    "random_seed = 2\n",
    "samples_train_2d, samples_test_2d, labels_train_2d, labels_test_2d =  train_test_split(images_2d, labels_2d, \n",
    "                                                                           test_size=0.1,random_state = random_seed)"
   ]
  },
  {
   "cell_type": "code",
   "execution_count": null,
   "metadata": {},
   "outputs": [],
   "source": []
  },
  {
   "cell_type": "code",
   "execution_count": 30,
   "metadata": {},
   "outputs": [
    {
     "ename": "ValueError",
     "evalue": "Expected 1D or 2D array, got 4D array instead",
     "output_type": "error",
     "traceback": [
      "\u001b[0;31m---------------------------------------------------------------------------\u001b[0m",
      "\u001b[0;31mValueError\u001b[0m                                Traceback (most recent call last)",
      "\u001b[0;32m<ipython-input-30-7fd691d0d191>\u001b[0m in \u001b[0;36m<module>\u001b[0;34m()\u001b[0m\n\u001b[0;32m----> 1\u001b[0;31m \u001b[0mnp\u001b[0m\u001b[0;34m.\u001b[0m\u001b[0msavetxt\u001b[0m\u001b[0;34m(\u001b[0m\u001b[0;34m\"samples_train_2d.csv\"\u001b[0m\u001b[0;34m,\u001b[0m \u001b[0msamples_train_2d\u001b[0m\u001b[0;34m,\u001b[0m \u001b[0mdelimiter\u001b[0m\u001b[0;34m=\u001b[0m\u001b[0;34m\",\"\u001b[0m\u001b[0;34m)\u001b[0m\u001b[0;34m\u001b[0m\u001b[0m\n\u001b[0m\u001b[1;32m      2\u001b[0m \u001b[0mnp\u001b[0m\u001b[0;34m.\u001b[0m\u001b[0msavetxt\u001b[0m\u001b[0;34m(\u001b[0m\u001b[0;34m\"samples_test_2d.csv\"\u001b[0m\u001b[0;34m,\u001b[0m \u001b[0msamples_test_2d\u001b[0m\u001b[0;34m,\u001b[0m \u001b[0mdelimiter\u001b[0m\u001b[0;34m=\u001b[0m\u001b[0;34m\",\"\u001b[0m\u001b[0;34m)\u001b[0m\u001b[0;34m\u001b[0m\u001b[0m\n\u001b[1;32m      3\u001b[0m \u001b[0mnp\u001b[0m\u001b[0;34m.\u001b[0m\u001b[0msavetxt\u001b[0m\u001b[0;34m(\u001b[0m\u001b[0;34m\"labels_train_2d.csv\"\u001b[0m\u001b[0;34m,\u001b[0m \u001b[0msamples_train_2d\u001b[0m\u001b[0;34m,\u001b[0m \u001b[0mdelimiter\u001b[0m\u001b[0;34m=\u001b[0m\u001b[0;34m\",\"\u001b[0m\u001b[0;34m)\u001b[0m\u001b[0;34m\u001b[0m\u001b[0m\n\u001b[1;32m      4\u001b[0m \u001b[0mnp\u001b[0m\u001b[0;34m.\u001b[0m\u001b[0msavetxt\u001b[0m\u001b[0;34m(\u001b[0m\u001b[0;34m\"labels_test_2d.csv\"\u001b[0m\u001b[0;34m,\u001b[0m \u001b[0msamples_train_2d\u001b[0m\u001b[0;34m,\u001b[0m \u001b[0mdelimiter\u001b[0m\u001b[0;34m=\u001b[0m\u001b[0;34m\",\"\u001b[0m\u001b[0;34m)\u001b[0m\u001b[0;34m\u001b[0m\u001b[0m\n",
      "\u001b[0;32m/usr/local/Cellar/python3/3.6.4_2/Frameworks/Python.framework/Versions/3.6/lib/python3.6/site-packages/numpy/lib/npyio.py\u001b[0m in \u001b[0;36msavetxt\u001b[0;34m(fname, X, fmt, delimiter, newline, header, footer, comments, encoding)\u001b[0m\n\u001b[1;32m   1318\u001b[0m         \u001b[0;32mif\u001b[0m \u001b[0mX\u001b[0m\u001b[0;34m.\u001b[0m\u001b[0mndim\u001b[0m \u001b[0;34m==\u001b[0m \u001b[0;36m0\u001b[0m \u001b[0;32mor\u001b[0m \u001b[0mX\u001b[0m\u001b[0;34m.\u001b[0m\u001b[0mndim\u001b[0m \u001b[0;34m>\u001b[0m \u001b[0;36m2\u001b[0m\u001b[0;34m:\u001b[0m\u001b[0;34m\u001b[0m\u001b[0m\n\u001b[1;32m   1319\u001b[0m             raise ValueError(\n\u001b[0;32m-> 1320\u001b[0;31m                 \"Expected 1D or 2D array, got %dD array instead\" % X.ndim)\n\u001b[0m\u001b[1;32m   1321\u001b[0m         \u001b[0;32melif\u001b[0m \u001b[0mX\u001b[0m\u001b[0;34m.\u001b[0m\u001b[0mndim\u001b[0m \u001b[0;34m==\u001b[0m \u001b[0;36m1\u001b[0m\u001b[0;34m:\u001b[0m\u001b[0;34m\u001b[0m\u001b[0m\n\u001b[1;32m   1322\u001b[0m             \u001b[0;31m# Common case -- 1d array of numbers\u001b[0m\u001b[0;34m\u001b[0m\u001b[0;34m\u001b[0m\u001b[0m\n",
      "\u001b[0;31mValueError\u001b[0m: Expected 1D or 2D array, got 4D array instead"
     ]
    }
   ],
   "source": [
    "np.savetxt(\"samples_train_2d.csv\", samples_train_2d, delimiter=\",\")\n",
    "np.savetxt(\"samples_test_2d.csv\", samples_test_2d, delimiter=\",\")\n",
    "np.savetxt(\"labels_train_2d.csv\", samples_train_2d, delimiter=\",\")\n",
    "np.savetxt(\"labels_test_2d.csv\", samples_train_2d, delimiter=\",\")"
   ]
  },
  {
   "cell_type": "code",
   "execution_count": 26,
   "metadata": {},
   "outputs": [],
   "source": [
    "#-- Build CNN Model\n",
    "model_cnn = keras.Sequential()\n",
    "model_cnn.add(keras.layers.Conv2D(input_shape= samples_train_2d[0].shape, \n",
    "                                  filters=64, \n",
    "                                  kernel_size=(5,5), \n",
    "                                  padding='Same', \n",
    "                                  activation='relu'))\n",
    "\n",
    "model_cnn.add(keras.layers.Conv2D(filters=64, \n",
    "                                  kernel_size=(5,5), \n",
    "                                  padding='Same', \n",
    "                                  activation='relu'))\n",
    "\n",
    "model_cnn.add(keras.layers.MaxPool2D(pool_size=(2,2)))\n",
    "model_cnn.add(keras.layers.Dropout(0.25))\n",
    "\n",
    "model_cnn.add(keras.layers.Conv2D(filters=32, \n",
    "                                  kernel_size=(3,3), \n",
    "                                  padding='Same', \n",
    "                                  activation='relu'))\n",
    "\n",
    "model_cnn.add(keras.layers.Conv2D(filters=32, \n",
    "                                  kernel_size=(3,3), \n",
    "                                  padding='Same', \n",
    "                                  activation='relu'))\n",
    "\n",
    "model_cnn.add(keras.layers.MaxPool2D(pool_size=(2,2), strides=(2,2)))\n",
    "model_cnn.add(keras.layers.Dropout(0.25))\n",
    "\n",
    "model_cnn.add(keras.layers.Flatten())\n",
    "model_cnn.add(keras.layers.Dense(256, activation='relu'))\n",
    "model_cnn.add(keras.layers.Dropout(0.5))\n",
    "model_cnn.add(keras.layers.Dense(34, activation='softmax'))"
   ]
  },
  {
   "cell_type": "code",
   "execution_count": 27,
   "metadata": {},
   "outputs": [],
   "source": [
    "# Python optimisation variables\n",
    "learning_rate = 0.001\n",
    "epochs = 2\n",
    "batch_size = 50\n",
    "\n",
    "#-- Set up the Optimizer\n",
    "optimizer = tf.train.AdamOptimizer()"
   ]
  },
  {
   "cell_type": "code",
   "execution_count": 28,
   "metadata": {},
   "outputs": [],
   "source": [
    "#-- Compile the Model\n",
    "model_cnn.compile(optimizer=optimizer, loss='categorical_crossentropy', metrics=['accuracy'])"
   ]
  },
  {
   "cell_type": "code",
   "execution_count": 29,
   "metadata": {},
   "outputs": [
    {
     "name": "stdout",
     "output_type": "stream",
     "text": [
      "Train on 13932 samples, validate on 1548 samples\n",
      "Epoch 1/2\n",
      "13932/13932 [==============================] - 160s 12ms/step - loss: 4.7520 - acc: 0.1890 - val_loss: 1.4400 - val_acc: 0.6008\n",
      "Epoch 2/2\n",
      "13932/13932 [==============================] - 161s 12ms/step - loss: 1.3271 - acc: 0.5930 - val_loss: 0.6900 - val_acc: 0.7913\n"
     ]
    }
   ],
   "source": [
    "history_cnn = model_cnn.fit(samples_train_2d, labels_train_2d, \n",
    "                            batch_size=batch_size, \n",
    "                            epochs=epochs,\n",
    "                            validation_data=(samples_test_2d, labels_test_2d))"
   ]
  },
  {
   "cell_type": "markdown",
   "metadata": {},
   "source": [
    "### Analysis of Accuracy and Loss"
   ]
  },
  {
   "cell_type": "code",
   "execution_count": 10,
   "metadata": {},
   "outputs": [
    {
     "data": {
      "image/png": "[encoded data removed]",
      "text/plain": [
       "<matplotlib.figure.Figure at 0x127365588>"
      ]
     },
     "metadata": {
      "needs_background": "light"
     },
     "output_type": "display_data"
    }
   ],
   "source": [
    "fig, ax = plt.subplots(2,1)\n",
    "ax[0].plot(history_cnn.history['loss'], color='b', label='Training Loss')\n",
    "ax[0].plot(history_cnn.history['val_loss'], color='r', label='Validation Loss', axes=ax[0])\n",
    "legend= ax[0].legend(loc='best', shadow=True)\n",
    "\n",
    "ax[1].plot(history_cnn.history['acc'], color='b', label='Training Accuracy')\n",
    "ax[1].plot(history_cnn.history['val_acc'], color='r', label='Validation Accuracy')\n",
    "legend= ax[1].legend(loc='best', shadow=True)"
   ]
  }
 ],
 "metadata": {
  "kernelspec": {
   "display_name": "Python 3",
   "language": "python",
   "name": "python3"
  },
  "language_info": {
   "codemirror_mode": {
    "name": "ipython",
    "version": 3
   },
   "file_extension": ".py",
   "mimetype": "text/x-python",
   "name": "python",
   "nbconvert_exporter": "python",
   "pygments_lexer": "ipython3",
   "version": "3.6.4"
  }
 },
 "nbformat": 4,
 "nbformat_minor": 2
}
