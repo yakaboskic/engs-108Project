{
 "cells": [
  {
   "cell_type": "markdown",
   "metadata": {},
   "source": [
    "# Deep Learning with Cyrillic Data \n",
    "Chase Yakaboski, 10/23/2018\n",
    "\n",
    "## 1. Data Preparation\n",
    "    - Image loading function\n",
    "    - Load in of images \n",
    "    - Plot histogram of Labels\n",
    "    \n",
    "## 2. Deep Fully Connected Neural Network\n",
    "    - Preprocess Data\n",
    "    - Split Data into Training and Testing\n",
    "    - Define Model\n",
    "    - Compile Model\n",
    "    - Run Model\n",
    "    - Analysis\n",
    "\n",
    "## 3. Deep Convolutional Neural Network\n",
    "    - Preprocess Data\n",
    "    - Split Data into Training and Testing\n",
    "    - Define Model\n",
    "    - Compile Model\n",
    "    - Run Model\n",
    "    - Analysis"
   ]
  },
  {
   "cell_type": "code",
   "execution_count": 1,
   "metadata": {},
   "outputs": [
    {
     "name": "stdout",
     "output_type": "stream",
     "text": [
      "1.11.0\n"
     ]
    }
   ],
   "source": [
    "import numpy as np\n",
    "import pandas\n",
    "import tensorflow as tf\n",
    "from tensorflow import keras\n",
    "import matplotlib.pyplot as plt\n",
    "import os\n",
    "import cv2\n",
    "from sklearn.model_selection import train_test_split\n",
    "\n",
    "print(tf.__version__)"
   ]
  },
  {
   "cell_type": "markdown",
   "metadata": {},
   "source": [
    "## 1. Data Preparation"
   ]
  },
  {
   "cell_type": "code",
   "execution_count": 2,
   "metadata": {},
   "outputs": [],
   "source": [
    "#-- Function to Load in Data\n",
    "#-- This Function expects images to be in seperated folders in which each folder is a different character. \n",
    "\n",
    "def load_images(path_to_images='/Users/Chase/Documents/Dartmouth/courses/engs-108/homework/Cyrillic', image_size=40):\n",
    "    #-- First we change directory to the path to images.\n",
    "    os.chdir(path_to_images)\n",
    "    letter_class = [name for name in os.listdir() if os.path.isdir(name)]\n",
    "    num_classes = len(letter_class)\n",
    "\n",
    "    images = []\n",
    "    images_2d = []\n",
    "    labels = []\n",
    "    for i in range(0, num_classes):\n",
    "        for j, file in enumerate(os.listdir(os.path.join(os.getcwd(), letter_class[i]))):\n",
    "            try:\n",
    "                path = os.path.join(os.getcwd(), letter_class[i], file)\n",
    "                im = cv2.imread(path, cv2.IMREAD_UNCHANGED)\n",
    "                res = cv2.resize(im, dsize=(image_size, image_size))\n",
    "                r,g,b,a = cv2.split(res)\n",
    "                im = np.array(a)\n",
    "                #- Add a dummy dimension\n",
    "                im = np.expand_dims(im, axis=2)\n",
    "                images_2d.append(im)\n",
    "                im_alpha = np.squeeze(im.reshape(-1, image_size**2),axis=0)\n",
    "                #- Normalize Pixel Values\n",
    "                im_alpha2 = im_alpha / 255.0 \n",
    "                images.append(im_alpha2)\n",
    "                labels.append(i)\n",
    "            except:\n",
    "                print('Bad Files:')\n",
    "                print(path)\n",
    "                continue\n",
    "    images = np.array(images)\n",
    "    labels = np.array(labels)\n",
    "    images_2d = np.array(images_2d)\n",
    "    labels_2d = keras.utils.to_categorical(labels, num_classes = num_classes)\n",
    "    \n",
    "    return images, images_2d, labels, labels_2d"
   ]
  },
  {
   "cell_type": "code",
   "execution_count": 3,
   "metadata": {},
   "outputs": [
    {
     "name": "stdout",
     "output_type": "stream",
     "text": [
      "Bad Files:\n",
      "/Users/Chase/Documents/Dartmouth/courses/engs-108/homework/Cyrillic/З/.DS_Store\n"
     ]
    }
   ],
   "source": [
    "images, images_2d, labels, labels_2d = load_images(image_size=28)"
   ]
  },
  {
   "cell_type": "markdown",
   "metadata": {},
   "source": [
    "### Now lets plot the labels to make sure each Cyrillic letter has about the same number of samples. "
   ]
  },
  {
   "cell_type": "code",
   "execution_count": 4,
   "metadata": {},
   "outputs": [
    {
     "data": {
      "text/plain": [
       "(array([444., 463., 462., 551., 459., 474., 458., 447., 427., 415., 465.,\n",
       "        431., 456., 469., 486., 344., 466., 247., 576., 493., 487., 464.,\n",
       "        461., 433., 446., 470., 431., 508., 438., 459., 424., 448., 465.,\n",
       "        513.]),\n",
       " array([ 0.        ,  0.97058824,  1.94117647,  2.91176471,  3.88235294,\n",
       "         4.85294118,  5.82352941,  6.79411765,  7.76470588,  8.73529412,\n",
       "         9.70588235, 10.67647059, 11.64705882, 12.61764706, 13.58823529,\n",
       "        14.55882353, 15.52941176, 16.5       , 17.47058824, 18.44117647,\n",
       "        19.41176471, 20.38235294, 21.35294118, 22.32352941, 23.29411765,\n",
       "        24.26470588, 25.23529412, 26.20588235, 27.17647059, 28.14705882,\n",
       "        29.11764706, 30.08823529, 31.05882353, 32.02941176, 33.        ]),\n",
       " <a list of 34 Patch objects>)"
      ]
     },
     "execution_count": 4,
     "metadata": {},
     "output_type": "execute_result"
    },
    {
     "data": {
      "image/png": "[encoded data removed]",
      "text/plain": [
       "<matplotlib.figure.Figure at 0x1245ff358>"
      ]
     },
     "metadata": {
      "needs_background": "light"
     },
     "output_type": "display_data"
    }
   ],
   "source": [
    "plt.hist(labels, bins=34)"
   ]
  },
  {
   "cell_type": "markdown",
   "metadata": {},
   "source": [
    "## 2. Deep Fully Connected Network"
   ]
  },
  {
   "cell_type": "code",
   "execution_count": 5,
   "metadata": {},
   "outputs": [],
   "source": [
    "#-- Preprocess\n",
    "random_seed = 2\n",
    "samples_train, samples_test, labels_train, labels_test =  train_test_split(images, labels, \n",
    "                                                                           test_size=.3, \n",
    "                                                                           random_state=random_seed)"
   ]
  },
  {
   "cell_type": "code",
   "execution_count": 6,
   "metadata": {},
   "outputs": [],
   "source": [
    "#-- Build Deep Model\n",
    "model = keras.Sequential()\n",
    "model.add(keras.layers.Dense(500, input_shape=samples_train[0].shape))\n",
    "model.add(keras.layers.Dense(400, activation=tf.nn.relu))\n",
    "model.add(keras.layers.Dense(300, activation=tf.nn.relu))\n",
    "model.add(keras.layers.Dense(200, activation=tf.nn.relu))\n",
    "model.add(keras.layers.Dropout(.1))\n",
    "model.add(keras.layers.Dense(100, activation=tf.nn.relu))\n",
    "model.add(keras.layers.Dense(80, activation=tf.nn.relu))\n",
    "model.add(keras.layers.Dense(60, activation=tf.nn.relu))\n",
    "model.add(keras.layers.Dropout(.3))\n",
    "model.add(keras.layers.Dense(50, activation=tf.nn.relu))\n",
    "model.add(keras.layers.Dense(45, activation=tf.nn.relu))\n",
    "model.add(keras.layers.Dense(40, activation=tf.nn.relu))\n",
    "model.add(keras.layers.Dense(34, activation=tf.nn.softmax))"
   ]
  },
  {
   "cell_type": "code",
   "execution_count": 7,
   "metadata": {},
   "outputs": [],
   "source": [
    "#-- Compile Model\n",
    "model.compile(optimizer=tf.train.AdamOptimizer(), \n",
    "              loss='sparse_categorical_crossentropy',\n",
    "              metrics=['accuracy'])"
   ]
  },
  {
   "cell_type": "code",
   "execution_count": 8,
   "metadata": {},
   "outputs": [
    {
     "name": "stdout",
     "output_type": "stream",
     "text": [
      "Train on 10836 samples, validate on 4644 samples\n",
      "Epoch 1/30\n",
      "10836/10836 [==============================] - 3s 275us/step - loss: 3.1619 - acc: 0.0929 - val_loss: 2.7780 - val_acc: 0.1654\n",
      "Epoch 2/30\n",
      "10836/10836 [==============================] - 2s 206us/step - loss: 2.5285 - acc: 0.2193 - val_loss: 2.2254 - val_acc: 0.3081\n",
      "Epoch 3/30\n",
      "10836/10836 [==============================] - 2s 201us/step - loss: 2.0180 - acc: 0.3555 - val_loss: 1.7936 - val_acc: 0.4453\n",
      "Epoch 4/30\n",
      "10836/10836 [==============================] - 2s 200us/step - loss: 1.6024 - acc: 0.4839 - val_loss: 1.5811 - val_acc: 0.5069\n",
      "Epoch 5/30\n",
      "10836/10836 [==============================] - 2s 212us/step - loss: 1.3153 - acc: 0.5801 - val_loss: 1.3860 - val_acc: 0.5889\n",
      "Epoch 6/30\n",
      "10836/10836 [==============================] - 2s 207us/step - loss: 1.0836 - acc: 0.6600 - val_loss: 1.2314 - val_acc: 0.6505\n",
      "Epoch 7/30\n",
      "10836/10836 [==============================] - 2s 213us/step - loss: 0.9252 - acc: 0.7158 - val_loss: 1.1222 - val_acc: 0.6785\n",
      "Epoch 8/30\n",
      "10836/10836 [==============================] - 2s 204us/step - loss: 0.8010 - acc: 0.7518 - val_loss: 1.1560 - val_acc: 0.6860\n",
      "Epoch 9/30\n",
      "10836/10836 [==============================] - 2s 206us/step - loss: 0.7175 - acc: 0.7796 - val_loss: 1.0535 - val_acc: 0.7132\n",
      "Epoch 10/30\n",
      "10836/10836 [==============================] - 2s 205us/step - loss: 0.6065 - acc: 0.8153 - val_loss: 1.0859 - val_acc: 0.7099\n",
      "Epoch 11/30\n",
      "10836/10836 [==============================] - 2s 206us/step - loss: 0.5583 - acc: 0.8281 - val_loss: 1.1216 - val_acc: 0.7224\n",
      "Epoch 12/30\n",
      "10836/10836 [==============================] - 2s 211us/step - loss: 0.5151 - acc: 0.8510 - val_loss: 1.0608 - val_acc: 0.7474\n",
      "Epoch 13/30\n",
      "10836/10836 [==============================] - 2s 216us/step - loss: 0.4373 - acc: 0.8660 - val_loss: 1.1063 - val_acc: 0.7300\n",
      "Epoch 14/30\n",
      "10836/10836 [==============================] - 2s 216us/step - loss: 0.4252 - acc: 0.8771 - val_loss: 1.0671 - val_acc: 0.7494\n",
      "Epoch 15/30\n",
      "10836/10836 [==============================] - 2s 210us/step - loss: 0.3777 - acc: 0.8873 - val_loss: 1.1939 - val_acc: 0.7302\n",
      "Epoch 16/30\n",
      "10836/10836 [==============================] - 2s 208us/step - loss: 0.3869 - acc: 0.8863 - val_loss: 1.0504 - val_acc: 0.7513\n",
      "Epoch 17/30\n",
      "10836/10836 [==============================] - 2s 224us/step - loss: 0.3179 - acc: 0.9091 - val_loss: 1.2067 - val_acc: 0.7418\n",
      "Epoch 18/30\n",
      "10836/10836 [==============================] - 2s 216us/step - loss: 0.3010 - acc: 0.9108 - val_loss: 1.1039 - val_acc: 0.7578\n",
      "Epoch 19/30\n",
      "10836/10836 [==============================] - 2s 210us/step - loss: 0.3000 - acc: 0.9143 - val_loss: 1.1327 - val_acc: 0.7590\n",
      "Epoch 20/30\n",
      "10836/10836 [==============================] - 2s 209us/step - loss: 0.2866 - acc: 0.9216 - val_loss: 1.0628 - val_acc: 0.7683\n",
      "Epoch 21/30\n",
      "10836/10836 [==============================] - 2s 215us/step - loss: 0.2674 - acc: 0.9281 - val_loss: 1.1325 - val_acc: 0.7681\n",
      "Epoch 22/30\n",
      "10836/10836 [==============================] - 2s 217us/step - loss: 0.2420 - acc: 0.9345 - val_loss: 1.1713 - val_acc: 0.7629\n",
      "Epoch 23/30\n",
      "10836/10836 [==============================] - 2s 213us/step - loss: 0.2158 - acc: 0.9410 - val_loss: 1.1413 - val_acc: 0.7791\n",
      "Epoch 24/30\n",
      "10836/10836 [==============================] - 2s 213us/step - loss: 0.2214 - acc: 0.9419 - val_loss: 1.2047 - val_acc: 0.7679\n",
      "Epoch 25/30\n",
      "10836/10836 [==============================] - 3s 255us/step - loss: 0.2481 - acc: 0.9351 - val_loss: 1.2110 - val_acc: 0.7526\n",
      "Epoch 26/30\n",
      "10836/10836 [==============================] - 7s 638us/step - loss: 0.2197 - acc: 0.9434 - val_loss: 1.1124 - val_acc: 0.7782\n",
      "Epoch 27/30\n",
      "10836/10836 [==============================] - 7s 639us/step - loss: 0.1887 - acc: 0.9518 - val_loss: 1.1972 - val_acc: 0.7836\n",
      "Epoch 28/30\n",
      "10836/10836 [==============================] - 7s 626us/step - loss: 0.1901 - acc: 0.9504 - val_loss: 1.2438 - val_acc: 0.7709\n",
      "Epoch 29/30\n",
      "10836/10836 [==============================] - 7s 626us/step - loss: 0.1958 - acc: 0.9504 - val_loss: 1.2089 - val_acc: 0.7621\n",
      "Epoch 30/30\n",
      "10836/10836 [==============================] - 7s 632us/step - loss: 0.1658 - acc: 0.9556 - val_loss: 1.1849 - val_acc: 0.7853\n"
     ]
    }
   ],
   "source": [
    "#-- Train Model\n",
    "history_full = model.fit(samples_train, labels_train, \n",
    "                         batch_size=50, \n",
    "                         epochs=30, \n",
    "                         validation_data = (samples_test, labels_test))"
   ]
  },
  {
   "cell_type": "code",
   "execution_count": 9,
   "metadata": {},
   "outputs": [
    {
     "name": "stdout",
     "output_type": "stream",
     "text": [
      "4644/4644 [==============================] - 1s 290us/step\n"
     ]
    }
   ],
   "source": [
    "#-- Evaluate\n",
    "test_loss, test_acc = model.evaluate(samples_test, labels_test)"
   ]
  },
  {
   "cell_type": "code",
   "execution_count": 10,
   "metadata": {},
   "outputs": [
    {
     "name": "stdout",
     "output_type": "stream",
     "text": [
      "Accuracy =  0.7853143841515935\n"
     ]
    }
   ],
   "source": [
    "print('Accuracy = ', test_acc)"
   ]
  },
  {
   "cell_type": "markdown",
   "metadata": {},
   "source": [
    "### Analysis of Accuracy and Loss"
   ]
  },
  {
   "cell_type": "code",
   "execution_count": 11,
   "metadata": {},
   "outputs": [
    {
     "data": {
      "image/png": "[encoded data removed]",
      "text/plain": [
       "<matplotlib.figure.Figure at 0x131a8cb70>"
      ]
     },
     "metadata": {
      "needs_background": "light"
     },
     "output_type": "display_data"
    }
   ],
   "source": [
    "fig, ax = plt.subplots(2,1)\n",
    "ax[0].plot(history_full.history['loss'], color='b', label='Training Loss')\n",
    "ax[0].plot(history_full.history['val_loss'], color='r', label='Validation Loss', axes=ax[0])\n",
    "legend= ax[0].legend(loc='best', shadow=True)\n",
    "\n",
    "ax[1].plot(history_full.history['acc'], color='b', label='Training Accuracy')\n",
    "ax[1].plot(history_full.history['val_acc'], color='r', label='Validation Accuracy')\n",
    "legend= ax[1].legend(loc='best', shadow=True)"
   ]
  },
  {
   "cell_type": "markdown",
   "metadata": {},
   "source": [
    "## 3. Deep Convolutional Neural Network"
   ]
  },
  {
   "cell_type": "code",
   "execution_count": 42,
   "metadata": {},
   "outputs": [],
   "source": [
    "#-- Preprocess\n",
    "random_seed = 2\n",
    "samples_train_2d, samples_test_2d, labels_train_2d, labels_test_2d =  train_test_split(images_2d, labels_2d, \n",
    "                                                                           test_size=0.1, \n",
    "                                                                           random_state=random_seed)"
   ]
  },
  {
   "cell_type": "code",
   "execution_count": 43,
   "metadata": {},
   "outputs": [],
   "source": [
    "#-- Build CNN Model\n",
    "model_cnn = keras.Sequential()\n",
    "model_cnn.add(keras.layers.Conv2D(input_shape= samples_train_2d[0].shape, \n",
    "                                  filters=64, \n",
    "                                  kernel_size=(5,5), \n",
    "                                  padding='Same', \n",
    "                                  activation='relu'))\n",
    "\n",
    "model_cnn.add(keras.layers.Conv2D(filters=64, \n",
    "                                  kernel_size=(5,5), \n",
    "                                  padding='Same', \n",
    "                                  activation='relu'))\n",
    "\n",
    "model_cnn.add(keras.layers.MaxPool2D(pool_size=(2,2)))\n",
    "model_cnn.add(keras.layers.Dropout(0.25))\n",
    "\n",
    "model_cnn.add(keras.layers.Conv2D(filters=32, \n",
    "                                  kernel_size=(3,3), \n",
    "                                  padding='Same', \n",
    "                                  activation='relu'))\n",
    "\n",
    "model_cnn.add(keras.layers.Conv2D(filters=32, \n",
    "                                  kernel_size=(3,3), \n",
    "                                  padding='Same', \n",
    "                                  activation='relu'))\n",
    "\n",
    "model_cnn.add(keras.layers.MaxPool2D(pool_size=(2,2), strides=(2,2)))\n",
    "model_cnn.add(keras.layers.Dropout(0.25))\n",
    "\n",
    "model_cnn.add(keras.layers.Flatten())\n",
    "model_cnn.add(keras.layers.Dense(256, activation='relu'))\n",
    "model_cnn.add(keras.layers.Dropout(0.5))\n",
    "model_cnn.add(keras.layers.Dense(34, activation='softmax'))"
   ]
  },
  {
   "cell_type": "code",
   "execution_count": 54,
   "metadata": {},
   "outputs": [],
   "source": [
    "# Python optimisation variables\n",
    "epochs = 20\n",
    "batch_size = 50\n",
    "\n",
    "#-- Set up the Optimizer\n",
    "optimizer = tf.train.AdamOptimizer()\n",
    "#optimizer = keras.optimizers.RMSprop(lr=0.001, rho=.9, epsilon=1e-08, decay=0.0)"
   ]
  },
  {
   "cell_type": "code",
   "execution_count": 45,
   "metadata": {},
   "outputs": [],
   "source": [
    "#-- Compile the Model\n",
    "model_cnn.compile(optimizer=optimizer, loss='categorical_crossentropy', metrics=['accuracy'])"
   ]
  },
  {
   "cell_type": "code",
   "execution_count": 55,
   "metadata": {},
   "outputs": [
    {
     "name": "stdout",
     "output_type": "stream",
     "text": [
      "Train on 13932 samples, validate on 1548 samples\n",
      "Epoch 1/20\n",
      "13932/13932 [==============================] - 151s 11ms/step - loss: 0.4176 - acc: 0.8656 - val_loss: 0.3334 - val_acc: 0.9005\n",
      "Epoch 2/20\n",
      "13932/13932 [==============================] - 154s 11ms/step - loss: 0.3851 - acc: 0.8756 - val_loss: 0.2834 - val_acc: 0.9147\n",
      "Epoch 3/20\n",
      "13932/13932 [==============================] - 158s 11ms/step - loss: 0.3537 - acc: 0.8875 - val_loss: 0.2770 - val_acc: 0.9115\n",
      "Epoch 4/20\n",
      "13932/13932 [==============================] - 153s 11ms/step - loss: 0.3247 - acc: 0.8929 - val_loss: 0.2963 - val_acc: 0.9128\n",
      "Epoch 5/20\n",
      "13932/13932 [==============================] - 156s 11ms/step - loss: 0.3012 - acc: 0.9021 - val_loss: 0.2804 - val_acc: 0.9186\n",
      "Epoch 6/20\n",
      "13932/13932 [==============================] - 152s 11ms/step - loss: 0.2890 - acc: 0.9050 - val_loss: 0.2694 - val_acc: 0.9231\n",
      "Epoch 7/20\n",
      "13932/13932 [==============================] - 153s 11ms/step - loss: 0.2835 - acc: 0.9093 - val_loss: 0.2817 - val_acc: 0.9160\n",
      "Epoch 8/20\n",
      "13932/13932 [==============================] - 159s 11ms/step - loss: 0.2548 - acc: 0.9169 - val_loss: 0.2732 - val_acc: 0.9199\n",
      "Epoch 9/20\n",
      "13932/13932 [==============================] - 159s 11ms/step - loss: 0.2519 - acc: 0.9182 - val_loss: 0.2727 - val_acc: 0.9225\n",
      "Epoch 10/20\n",
      "13932/13932 [==============================] - 154s 11ms/step - loss: 0.2511 - acc: 0.9198 - val_loss: 0.2653 - val_acc: 0.9238\n",
      "Epoch 11/20\n",
      "13932/13932 [==============================] - 156s 11ms/step - loss: 0.2262 - acc: 0.9255 - val_loss: 0.2933 - val_acc: 0.9276\n",
      "Epoch 12/20\n",
      "13932/13932 [==============================] - 153s 11ms/step - loss: 0.2287 - acc: 0.9269 - val_loss: 0.2614 - val_acc: 0.9283\n",
      "Epoch 13/20\n",
      "13932/13932 [==============================] - 153s 11ms/step - loss: 0.2070 - acc: 0.9324 - val_loss: 0.2731 - val_acc: 0.9270\n",
      "Epoch 14/20\n",
      "13932/13932 [==============================] - 153s 11ms/step - loss: 0.2233 - acc: 0.9279 - val_loss: 0.2443 - val_acc: 0.9367\n",
      "Epoch 15/20\n",
      "13932/13932 [==============================] - 154s 11ms/step - loss: 0.2042 - acc: 0.9347 - val_loss: 0.2499 - val_acc: 0.9380\n",
      "Epoch 16/20\n",
      "13932/13932 [==============================] - 155s 11ms/step - loss: 0.1997 - acc: 0.9358 - val_loss: 0.2399 - val_acc: 0.9419\n",
      "Epoch 17/20\n",
      "13932/13932 [==============================] - 156s 11ms/step - loss: 0.1884 - acc: 0.9401 - val_loss: 0.2869 - val_acc: 0.9289\n",
      "Epoch 18/20\n",
      "13932/13932 [==============================] - 153s 11ms/step - loss: 0.2133 - acc: 0.9292 - val_loss: 0.2791 - val_acc: 0.9335\n",
      "Epoch 19/20\n",
      "13932/13932 [==============================] - 153s 11ms/step - loss: 0.1915 - acc: 0.9383 - val_loss: 0.2526 - val_acc: 0.9322\n",
      "Epoch 20/20\n",
      "13932/13932 [==============================] - 154s 11ms/step - loss: 0.1900 - acc: 0.9366 - val_loss: 0.2671 - val_acc: 0.9354\n"
     ]
    }
   ],
   "source": [
    "history_cnn = model_cnn.fit(samples_train_2d, labels_train_2d, \n",
    "                            batch_size=batch_size, \n",
    "                            epochs=epochs,\n",
    "                            validation_data=(samples_test_2d, labels_test_2d))"
   ]
  },
  {
   "cell_type": "markdown",
   "metadata": {},
   "source": [
    "### Analysis of Accuracy and Loss"
   ]
  },
  {
   "cell_type": "code",
   "execution_count": 56,
   "metadata": {},
   "outputs": [
    {
     "data": {
      "image/png": "[encoded data removed]",
      "text/plain": [
       "<matplotlib.figure.Figure at 0x1371372e8>"
      ]
     },
     "metadata": {
      "needs_background": "light"
     },
     "output_type": "display_data"
    }
   ],
   "source": [
    "fig, ax = plt.subplots(2,1)\n",
    "ax[0].plot(history_cnn.history['loss'], color='b', label='Training Loss')\n",
    "ax[0].plot(history_cnn.history['val_loss'], color='r', label='Validation Loss', axes=ax[0])\n",
    "legend= ax[0].legend(loc='best', shadow=True)\n",
    "\n",
    "ax[1].plot(history_cnn.history['acc'], color='b', label='Training Accuracy')\n",
    "ax[1].plot(history_cnn.history['val_acc'], color='r', label='Validation Accuracy')\n",
    "legend= ax[1].legend(loc='best', shadow=True)"
   ]
  },
  {
   "cell_type": "code",
   "execution_count": 57,
   "metadata": {},
   "outputs": [
    {
     "name": "stdout",
     "output_type": "stream",
     "text": [
      "1548/1548 [==============================] - 5s 3ms/step\n"
     ]
    }
   ],
   "source": [
    "#-- Evaluate\n",
    "test_loss, test_acc = model_cnn.evaluate(samples_test_2d, labels_test_2d)"
   ]
  },
  {
   "cell_type": "code",
   "execution_count": 58,
   "metadata": {},
   "outputs": [
    {
     "name": "stdout",
     "output_type": "stream",
     "text": [
      "Accuracy =  0.9354005169498828\n"
     ]
    }
   ],
   "source": [
    "print('Accuracy = ', test_acc)"
   ]
  },
  {
   "cell_type": "markdown",
   "metadata": {},
   "source": [
    "Clearly this accuracy is much better than then the fully connected network, even though it was only run for five epochs. Running this for longer would even yield better accuracy, but alas I have no more time. Thanks for reading!"
   ]
  },
  {
   "cell_type": "code",
   "execution_count": null,
   "metadata": {},
   "outputs": [],
   "source": []
  }
 ],
 "metadata": {
  "kernelspec": {
   "display_name": "Python 3",
   "language": "python",
   "name": "python3"
  },
  "language_info": {
   "codemirror_mode": {
    "name": "ipython",
    "version": 3
   },
   "file_extension": ".py",
   "mimetype": "text/x-python",
   "name": "python",
   "nbconvert_exporter": "python",
   "pygments_lexer": "ipython3",
   "version": "3.6.4"
  }
 },
 "nbformat": 4,
 "nbformat_minor": 2
}
